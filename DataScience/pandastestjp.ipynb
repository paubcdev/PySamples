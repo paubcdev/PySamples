{
 "cells": [
  {
   "cell_type": "code",
   "execution_count": 1,
   "outputs": [],
   "source": [
    "import pandas as pd\n",
    "pd.options.display.float_format = '{:,.2f}'.format\n",
    "pd.set_option('display.width', 85)\n",
    "pd.set_option('display.max_columns', 8)"
   ],
   "metadata": {
    "collapsed": false,
    "pycharm": {
     "name": "#%%\n"
    }
   }
  },
  {
   "cell_type": "code",
   "execution_count": 2,
   "outputs": [],
   "source": [
    "landtemps = pd.read_csv('./landtempssample.csv', names=['stationid', 'year', 'month', 'avgtemp', 'latitude',\n",
    "                                                        'longitude', 'elevation', 'station', 'countryid', 'country'],\n",
    "                        skiprows=1, parse_dates=[['month', 'year']])"
   ],
   "metadata": {
    "collapsed": false,
    "pycharm": {
     "name": "#%%\n"
    }
   }
  },
  {
   "cell_type": "code",
   "execution_count": 3,
   "outputs": [
    {
     "data": {
      "text/plain": "pandas.core.frame.DataFrame"
     },
     "execution_count": 3,
     "metadata": {},
     "output_type": "execute_result"
    }
   ],
   "source": [
    "type(landtemps)"
   ],
   "metadata": {
    "collapsed": false,
    "pycharm": {
     "name": "#%%\n"
    }
   }
  },
  {
   "cell_type": "code",
   "execution_count": 4,
   "outputs": [
    {
     "data": {
      "text/plain": "  month_year    stationid  avgtemp  latitude  ...  elevation           station  \\\n0 2000-04-01  USS0010K01S     5.27     39.90  ...   2,773.70     INDIAN_CANYON   \n1 1940-05-01  CI000085406    18.04    -18.35  ...      58.00             ARICA   \n2 2013-12-01  USC00036376     6.22     34.37  ...      61.00     SAINT_CHARLES   \n3 1963-02-01  ASN00024002    22.93    -34.28  ...      65.50  BERRI_IRRIGATION   \n4 2001-11-01  ASN00028007      NaN    -14.78  ...      79.40          MUSGRAVE   \n5 1991-04-01  USW00024151     5.59     42.15  ...   1,362.50        MALAD_CITY   \n6 1993-12-01  RSM00022641   -10.17     63.90  ...      13.00             ONEGA   \n\n  countryid        country  \n0        US  United States  \n1        CI          Chile  \n2        US  United States  \n3        AS      Australia  \n4        AS      Australia  \n5        US  United States  \n6        RS         Russia  \n\n[7 rows x 9 columns]",
      "text/html": "<div>\n<style scoped>\n    .dataframe tbody tr th:only-of-type {\n        vertical-align: middle;\n    }\n\n    .dataframe tbody tr th {\n        vertical-align: top;\n    }\n\n    .dataframe thead th {\n        text-align: right;\n    }\n</style>\n<table border=\"1\" class=\"dataframe\">\n  <thead>\n    <tr style=\"text-align: right;\">\n      <th></th>\n      <th>month_year</th>\n      <th>stationid</th>\n      <th>avgtemp</th>\n      <th>latitude</th>\n      <th>...</th>\n      <th>elevation</th>\n      <th>station</th>\n      <th>countryid</th>\n      <th>country</th>\n    </tr>\n  </thead>\n  <tbody>\n    <tr>\n      <th>0</th>\n      <td>2000-04-01</td>\n      <td>USS0010K01S</td>\n      <td>5.27</td>\n      <td>39.90</td>\n      <td>...</td>\n      <td>2,773.70</td>\n      <td>INDIAN_CANYON</td>\n      <td>US</td>\n      <td>United States</td>\n    </tr>\n    <tr>\n      <th>1</th>\n      <td>1940-05-01</td>\n      <td>CI000085406</td>\n      <td>18.04</td>\n      <td>-18.35</td>\n      <td>...</td>\n      <td>58.00</td>\n      <td>ARICA</td>\n      <td>CI</td>\n      <td>Chile</td>\n    </tr>\n    <tr>\n      <th>2</th>\n      <td>2013-12-01</td>\n      <td>USC00036376</td>\n      <td>6.22</td>\n      <td>34.37</td>\n      <td>...</td>\n      <td>61.00</td>\n      <td>SAINT_CHARLES</td>\n      <td>US</td>\n      <td>United States</td>\n    </tr>\n    <tr>\n      <th>3</th>\n      <td>1963-02-01</td>\n      <td>ASN00024002</td>\n      <td>22.93</td>\n      <td>-34.28</td>\n      <td>...</td>\n      <td>65.50</td>\n      <td>BERRI_IRRIGATION</td>\n      <td>AS</td>\n      <td>Australia</td>\n    </tr>\n    <tr>\n      <th>4</th>\n      <td>2001-11-01</td>\n      <td>ASN00028007</td>\n      <td>NaN</td>\n      <td>-14.78</td>\n      <td>...</td>\n      <td>79.40</td>\n      <td>MUSGRAVE</td>\n      <td>AS</td>\n      <td>Australia</td>\n    </tr>\n    <tr>\n      <th>5</th>\n      <td>1991-04-01</td>\n      <td>USW00024151</td>\n      <td>5.59</td>\n      <td>42.15</td>\n      <td>...</td>\n      <td>1,362.50</td>\n      <td>MALAD_CITY</td>\n      <td>US</td>\n      <td>United States</td>\n    </tr>\n    <tr>\n      <th>6</th>\n      <td>1993-12-01</td>\n      <td>RSM00022641</td>\n      <td>-10.17</td>\n      <td>63.90</td>\n      <td>...</td>\n      <td>13.00</td>\n      <td>ONEGA</td>\n      <td>RS</td>\n      <td>Russia</td>\n    </tr>\n  </tbody>\n</table>\n<p>7 rows × 9 columns</p>\n</div>"
     },
     "execution_count": 4,
     "metadata": {},
     "output_type": "execute_result"
    }
   ],
   "source": [
    "landtemps.head(7)"
   ],
   "metadata": {
    "collapsed": false,
    "pycharm": {
     "name": "#%%\n"
    }
   }
  },
  {
   "cell_type": "code",
   "execution_count": 5,
   "outputs": [
    {
     "data": {
      "text/plain": "month_year    datetime64[ns]\nstationid             object\navgtemp              float64\nlatitude             float64\nlongitude            float64\nelevation            float64\nstation               object\ncountryid             object\ncountry               object\ndtype: object"
     },
     "execution_count": 5,
     "metadata": {},
     "output_type": "execute_result"
    }
   ],
   "source": [
    "landtemps.dtypes"
   ],
   "metadata": {
    "collapsed": false,
    "pycharm": {
     "name": "#%%\n"
    }
   }
  },
  {
   "cell_type": "code",
   "execution_count": 6,
   "outputs": [
    {
     "data": {
      "text/plain": "(100000, 9)"
     },
     "execution_count": 6,
     "metadata": {},
     "output_type": "execute_result"
    }
   ],
   "source": [
    "landtemps.shape"
   ],
   "metadata": {
    "collapsed": false,
    "pycharm": {
     "name": "#%%\n"
    }
   }
  },
  {
   "cell_type": "code",
   "execution_count": 7,
   "outputs": [],
   "source": [
    "landtemps.rename(columns={'month_year':'measuredate'}, inplace=True)"
   ],
   "metadata": {
    "collapsed": false,
    "pycharm": {
     "name": "#%%\n"
    }
   }
  },
  {
   "cell_type": "code",
   "execution_count": 8,
   "outputs": [
    {
     "data": {
      "text/plain": "measuredate    datetime64[ns]\nstationid              object\navgtemp               float64\nlatitude              float64\nlongitude             float64\nelevation             float64\nstation                object\ncountryid              object\ncountry                object\ndtype: object"
     },
     "execution_count": 8,
     "metadata": {},
     "output_type": "execute_result"
    }
   ],
   "source": [
    "landtemps.dtypes"
   ],
   "metadata": {
    "collapsed": false,
    "pycharm": {
     "name": "#%%\n"
    }
   }
  },
  {
   "cell_type": "code",
   "execution_count": 9,
   "outputs": [
    {
     "data": {
      "text/plain": "count   85,554.00\nmean        10.92\nstd         11.52\nmin        -70.70\n25%          3.46\n50%         12.22\n75%         19.57\nmax         39.95\nName: avgtemp, dtype: float64"
     },
     "execution_count": 9,
     "metadata": {},
     "output_type": "execute_result"
    }
   ],
   "source": [
    "landtemps.avgtemp.describe()"
   ],
   "metadata": {
    "collapsed": false,
    "pycharm": {
     "name": "#%%\n"
    }
   }
  },
  {
   "cell_type": "code",
   "execution_count": 10,
   "outputs": [
    {
     "data": {
      "text/plain": "measuredate        0\nstationid          0\navgtemp        14446\nlatitude           0\nlongitude          0\nelevation          0\nstation            0\ncountryid          0\ncountry            5\ndtype: int64"
     },
     "execution_count": 10,
     "metadata": {},
     "output_type": "execute_result"
    }
   ],
   "source": [
    "landtemps.isnull().sum()"
   ],
   "metadata": {
    "collapsed": false,
    "pycharm": {
     "name": "#%%\n"
    }
   }
  },
  {
   "cell_type": "code",
   "execution_count": 11,
   "outputs": [
    {
     "data": {
      "text/plain": "(85554, 9)"
     },
     "execution_count": 11,
     "metadata": {},
     "output_type": "execute_result"
    }
   ],
   "source": [
    "landtemps.dropna(subset=['avgtemp'], inplace=True)\n",
    "landtemps.shape"
   ],
   "metadata": {
    "collapsed": false,
    "pycharm": {
     "name": "#%%\n"
    }
   }
  },
  {
   "cell_type": "code",
   "execution_count": null,
   "outputs": [],
   "source": [],
   "metadata": {
    "collapsed": false,
    "pycharm": {
     "name": "#%%\n"
    }
   }
  }
 ],
 "metadata": {
  "kernelspec": {
   "display_name": "Python 3",
   "language": "python",
   "name": "python3"
  },
  "language_info": {
   "codemirror_mode": {
    "name": "ipython",
    "version": 2
   },
   "file_extension": ".py",
   "mimetype": "text/x-python",
   "name": "python",
   "nbconvert_exporter": "python",
   "pygments_lexer": "ipython2",
   "version": "2.7.6"
  }
 },
 "nbformat": 4,
 "nbformat_minor": 0
}