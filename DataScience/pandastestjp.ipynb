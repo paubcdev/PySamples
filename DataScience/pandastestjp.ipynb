{
 "cells": [
  {
   "cell_type": "code",
   "execution_count": 2,
   "outputs": [],
   "source": [
    "import pandas as pd\n",
    "pd.options.display.float_format = '{:,.2f}'.format\n",
    "pd.set_option('display.width', 85)\n",
    "pd.set_option('display.max_columns', 8)"
   ],
   "metadata": {
    "collapsed": false,
    "pycharm": {
     "name": "#%%\n"
    }
   }
  },
  {
   "cell_type": "markdown",
   "source": [
    "# CSV File opening and treatment"
   ],
   "metadata": {
    "collapsed": false,
    "pycharm": {
     "name": "#%% md\n"
    }
   }
  },
  {
   "cell_type": "code",
   "execution_count": 2,
   "outputs": [],
   "source": [
    "landtemps = pd.read_csv('./landtempssample.csv', names=['stationid', 'year', 'month', 'avgtemp', 'latitude',\n",
    "                                                        'longitude', 'elevation', 'station', 'countryid', 'country'],\n",
    "                        skiprows=1, parse_dates=[['month', 'year']])"
   ],
   "metadata": {
    "collapsed": false,
    "pycharm": {
     "name": "#%%\n"
    }
   }
  },
  {
   "cell_type": "code",
   "execution_count": 3,
   "outputs": [
    {
     "data": {
      "text/plain": "pandas.core.frame.DataFrame"
     },
     "execution_count": 3,
     "metadata": {},
     "output_type": "execute_result"
    }
   ],
   "source": [
    "type(landtemps)"
   ],
   "metadata": {
    "collapsed": false,
    "pycharm": {
     "name": "#%%\n"
    }
   }
  },
  {
   "cell_type": "code",
   "execution_count": 4,
   "outputs": [
    {
     "data": {
      "text/plain": "  month_year    stationid  avgtemp  latitude  ...  elevation           station  \\\n0 2000-04-01  USS0010K01S     5.27     39.90  ...   2,773.70     INDIAN_CANYON   \n1 1940-05-01  CI000085406    18.04    -18.35  ...      58.00             ARICA   \n2 2013-12-01  USC00036376     6.22     34.37  ...      61.00     SAINT_CHARLES   \n3 1963-02-01  ASN00024002    22.93    -34.28  ...      65.50  BERRI_IRRIGATION   \n4 2001-11-01  ASN00028007      NaN    -14.78  ...      79.40          MUSGRAVE   \n5 1991-04-01  USW00024151     5.59     42.15  ...   1,362.50        MALAD_CITY   \n6 1993-12-01  RSM00022641   -10.17     63.90  ...      13.00             ONEGA   \n\n  countryid        country  \n0        US  United States  \n1        CI          Chile  \n2        US  United States  \n3        AS      Australia  \n4        AS      Australia  \n5        US  United States  \n6        RS         Russia  \n\n[7 rows x 9 columns]",
      "text/html": "<div>\n<style scoped>\n    .dataframe tbody tr th:only-of-type {\n        vertical-align: middle;\n    }\n\n    .dataframe tbody tr th {\n        vertical-align: top;\n    }\n\n    .dataframe thead th {\n        text-align: right;\n    }\n</style>\n<table border=\"1\" class=\"dataframe\">\n  <thead>\n    <tr style=\"text-align: right;\">\n      <th></th>\n      <th>month_year</th>\n      <th>stationid</th>\n      <th>avgtemp</th>\n      <th>latitude</th>\n      <th>...</th>\n      <th>elevation</th>\n      <th>station</th>\n      <th>countryid</th>\n      <th>country</th>\n    </tr>\n  </thead>\n  <tbody>\n    <tr>\n      <th>0</th>\n      <td>2000-04-01</td>\n      <td>USS0010K01S</td>\n      <td>5.27</td>\n      <td>39.90</td>\n      <td>...</td>\n      <td>2,773.70</td>\n      <td>INDIAN_CANYON</td>\n      <td>US</td>\n      <td>United States</td>\n    </tr>\n    <tr>\n      <th>1</th>\n      <td>1940-05-01</td>\n      <td>CI000085406</td>\n      <td>18.04</td>\n      <td>-18.35</td>\n      <td>...</td>\n      <td>58.00</td>\n      <td>ARICA</td>\n      <td>CI</td>\n      <td>Chile</td>\n    </tr>\n    <tr>\n      <th>2</th>\n      <td>2013-12-01</td>\n      <td>USC00036376</td>\n      <td>6.22</td>\n      <td>34.37</td>\n      <td>...</td>\n      <td>61.00</td>\n      <td>SAINT_CHARLES</td>\n      <td>US</td>\n      <td>United States</td>\n    </tr>\n    <tr>\n      <th>3</th>\n      <td>1963-02-01</td>\n      <td>ASN00024002</td>\n      <td>22.93</td>\n      <td>-34.28</td>\n      <td>...</td>\n      <td>65.50</td>\n      <td>BERRI_IRRIGATION</td>\n      <td>AS</td>\n      <td>Australia</td>\n    </tr>\n    <tr>\n      <th>4</th>\n      <td>2001-11-01</td>\n      <td>ASN00028007</td>\n      <td>NaN</td>\n      <td>-14.78</td>\n      <td>...</td>\n      <td>79.40</td>\n      <td>MUSGRAVE</td>\n      <td>AS</td>\n      <td>Australia</td>\n    </tr>\n    <tr>\n      <th>5</th>\n      <td>1991-04-01</td>\n      <td>USW00024151</td>\n      <td>5.59</td>\n      <td>42.15</td>\n      <td>...</td>\n      <td>1,362.50</td>\n      <td>MALAD_CITY</td>\n      <td>US</td>\n      <td>United States</td>\n    </tr>\n    <tr>\n      <th>6</th>\n      <td>1993-12-01</td>\n      <td>RSM00022641</td>\n      <td>-10.17</td>\n      <td>63.90</td>\n      <td>...</td>\n      <td>13.00</td>\n      <td>ONEGA</td>\n      <td>RS</td>\n      <td>Russia</td>\n    </tr>\n  </tbody>\n</table>\n<p>7 rows × 9 columns</p>\n</div>"
     },
     "execution_count": 4,
     "metadata": {},
     "output_type": "execute_result"
    }
   ],
   "source": [
    "landtemps.head(7)"
   ],
   "metadata": {
    "collapsed": false,
    "pycharm": {
     "name": "#%%\n"
    }
   }
  },
  {
   "cell_type": "code",
   "execution_count": 5,
   "outputs": [
    {
     "data": {
      "text/plain": "month_year    datetime64[ns]\nstationid             object\navgtemp              float64\nlatitude             float64\nlongitude            float64\nelevation            float64\nstation               object\ncountryid             object\ncountry               object\ndtype: object"
     },
     "execution_count": 5,
     "metadata": {},
     "output_type": "execute_result"
    }
   ],
   "source": [
    "landtemps.dtypes"
   ],
   "metadata": {
    "collapsed": false,
    "pycharm": {
     "name": "#%%\n"
    }
   }
  },
  {
   "cell_type": "code",
   "execution_count": 6,
   "outputs": [
    {
     "data": {
      "text/plain": "(100000, 9)"
     },
     "execution_count": 6,
     "metadata": {},
     "output_type": "execute_result"
    }
   ],
   "source": [
    "landtemps.shape"
   ],
   "metadata": {
    "collapsed": false,
    "pycharm": {
     "name": "#%%\n"
    }
   }
  },
  {
   "cell_type": "code",
   "execution_count": 7,
   "outputs": [],
   "source": [
    "landtemps.rename(columns={'month_year':'measuredate'}, inplace=True)"
   ],
   "metadata": {
    "collapsed": false,
    "pycharm": {
     "name": "#%%\n"
    }
   }
  },
  {
   "cell_type": "code",
   "execution_count": 8,
   "outputs": [
    {
     "data": {
      "text/plain": "measuredate    datetime64[ns]\nstationid              object\navgtemp               float64\nlatitude              float64\nlongitude             float64\nelevation             float64\nstation                object\ncountryid              object\ncountry                object\ndtype: object"
     },
     "execution_count": 8,
     "metadata": {},
     "output_type": "execute_result"
    }
   ],
   "source": [
    "landtemps.dtypes"
   ],
   "metadata": {
    "collapsed": false,
    "pycharm": {
     "name": "#%%\n"
    }
   }
  },
  {
   "cell_type": "code",
   "execution_count": 9,
   "outputs": [
    {
     "data": {
      "text/plain": "count   85,554.00\nmean        10.92\nstd         11.52\nmin        -70.70\n25%          3.46\n50%         12.22\n75%         19.57\nmax         39.95\nName: avgtemp, dtype: float64"
     },
     "execution_count": 9,
     "metadata": {},
     "output_type": "execute_result"
    }
   ],
   "source": [
    "landtemps.avgtemp.describe()"
   ],
   "metadata": {
    "collapsed": false,
    "pycharm": {
     "name": "#%%\n"
    }
   }
  },
  {
   "cell_type": "code",
   "execution_count": 10,
   "outputs": [
    {
     "data": {
      "text/plain": "measuredate        0\nstationid          0\navgtemp        14446\nlatitude           0\nlongitude          0\nelevation          0\nstation            0\ncountryid          0\ncountry            5\ndtype: int64"
     },
     "execution_count": 10,
     "metadata": {},
     "output_type": "execute_result"
    }
   ],
   "source": [
    "landtemps.isnull().sum()"
   ],
   "metadata": {
    "collapsed": false,
    "pycharm": {
     "name": "#%%\n"
    }
   }
  },
  {
   "cell_type": "code",
   "execution_count": 11,
   "outputs": [
    {
     "data": {
      "text/plain": "(85554, 9)"
     },
     "execution_count": 11,
     "metadata": {},
     "output_type": "execute_result"
    }
   ],
   "source": [
    "landtemps.dropna(subset=['avgtemp'], inplace=True)\n",
    "landtemps.shape"
   ],
   "metadata": {
    "collapsed": false,
    "pycharm": {
     "name": "#%%\n"
    }
   }
  },
  {
   "cell_type": "markdown",
   "source": [
    "# Excel File opening"
   ],
   "metadata": {
    "collapsed": false,
    "pycharm": {
     "name": "#%% md\n"
    }
   }
  },
  {
   "cell_type": "code",
   "execution_count": 3,
   "outputs": [],
   "source": [
    "percapitaGDP = pd.read_excel('GDPpercapita.xlsx',sheet_name='OECD.Stat export', skiprows=4, usecols=\"A,C:T\")\n",
    "# note to self: pd.read_x turns the read data automatically into a pandas DF"
   ],
   "metadata": {
    "collapsed": false,
    "pycharm": {
     "name": "#%%\n"
    }
   }
  },
  {
   "cell_type": "code",
   "execution_count": 4,
   "outputs": [
    {
     "data": {
      "text/plain": "                         Year   2001   2002   2003  ...   2015   2016   2017   2018\n0          Metropolitan areas    NaN    NaN    NaN  ...    NaN    NaN    NaN    NaN\n1              AUS: Australia     ..     ..     ..  ...     ..     ..     ..     ..\n2       AUS01: Greater Sydney  43313  44008  45424  ...  50075  50519  50578  49860\n3    AUS02: Greater Melbourne  40125  40894  41602  ...  42928  42671  43025  42674\n4     AUS03: Greater Brisbane  37580  37564  39080  ...  44388  45723  46876  46640\n\n[5 rows x 19 columns]",
      "text/html": "<div>\n<style scoped>\n    .dataframe tbody tr th:only-of-type {\n        vertical-align: middle;\n    }\n\n    .dataframe tbody tr th {\n        vertical-align: top;\n    }\n\n    .dataframe thead th {\n        text-align: right;\n    }\n</style>\n<table border=\"1\" class=\"dataframe\">\n  <thead>\n    <tr style=\"text-align: right;\">\n      <th></th>\n      <th>Year</th>\n      <th>2001</th>\n      <th>2002</th>\n      <th>2003</th>\n      <th>...</th>\n      <th>2015</th>\n      <th>2016</th>\n      <th>2017</th>\n      <th>2018</th>\n    </tr>\n  </thead>\n  <tbody>\n    <tr>\n      <th>0</th>\n      <td>Metropolitan areas</td>\n      <td>NaN</td>\n      <td>NaN</td>\n      <td>NaN</td>\n      <td>...</td>\n      <td>NaN</td>\n      <td>NaN</td>\n      <td>NaN</td>\n      <td>NaN</td>\n    </tr>\n    <tr>\n      <th>1</th>\n      <td>AUS: Australia</td>\n      <td>..</td>\n      <td>..</td>\n      <td>..</td>\n      <td>...</td>\n      <td>..</td>\n      <td>..</td>\n      <td>..</td>\n      <td>..</td>\n    </tr>\n    <tr>\n      <th>2</th>\n      <td>AUS01: Greater Sydney</td>\n      <td>43313</td>\n      <td>44008</td>\n      <td>45424</td>\n      <td>...</td>\n      <td>50075</td>\n      <td>50519</td>\n      <td>50578</td>\n      <td>49860</td>\n    </tr>\n    <tr>\n      <th>3</th>\n      <td>AUS02: Greater Melbourne</td>\n      <td>40125</td>\n      <td>40894</td>\n      <td>41602</td>\n      <td>...</td>\n      <td>42928</td>\n      <td>42671</td>\n      <td>43025</td>\n      <td>42674</td>\n    </tr>\n    <tr>\n      <th>4</th>\n      <td>AUS03: Greater Brisbane</td>\n      <td>37580</td>\n      <td>37564</td>\n      <td>39080</td>\n      <td>...</td>\n      <td>44388</td>\n      <td>45723</td>\n      <td>46876</td>\n      <td>46640</td>\n    </tr>\n  </tbody>\n</table>\n<p>5 rows × 19 columns</p>\n</div>"
     },
     "execution_count": 4,
     "metadata": {},
     "output_type": "execute_result"
    }
   ],
   "source": [
    "percapitaGDP.head()"
   ],
   "metadata": {
    "collapsed": false,
    "pycharm": {
     "name": "#%%\n"
    }
   }
  },
  {
   "cell_type": "code",
   "execution_count": 5,
   "outputs": [
    {
     "name": "stdout",
     "output_type": "stream",
     "text": [
      "<class 'pandas.core.frame.DataFrame'>\n",
      "RangeIndex: 703 entries, 0 to 702\n",
      "Data columns (total 19 columns):\n",
      " #   Column  Non-Null Count  Dtype \n",
      "---  ------  --------------  ----- \n",
      " 0   Year    703 non-null    object\n",
      " 1   2001    701 non-null    object\n",
      " 2   2002    701 non-null    object\n",
      " 3   2003    701 non-null    object\n",
      " 4   2004    701 non-null    object\n",
      " 5   2005    701 non-null    object\n",
      " 6   2006    701 non-null    object\n",
      " 7   2007    701 non-null    object\n",
      " 8   2008    701 non-null    object\n",
      " 9   2009    701 non-null    object\n",
      " 10  2010    701 non-null    object\n",
      " 11  2011    701 non-null    object\n",
      " 12  2012    701 non-null    object\n",
      " 13  2013    701 non-null    object\n",
      " 14  2014    701 non-null    object\n",
      " 15  2015    701 non-null    object\n",
      " 16  2016    701 non-null    object\n",
      " 17  2017    701 non-null    object\n",
      " 18  2018    701 non-null    object\n",
      "dtypes: object(19)\n",
      "memory usage: 104.5+ KB\n"
     ]
    }
   ],
   "source": [
    "percapitaGDP.info()"
   ],
   "metadata": {
    "collapsed": false,
    "pycharm": {
     "name": "#%%\n"
    }
   }
  },
  {
   "cell_type": "code",
   "execution_count": 6,
   "outputs": [
    {
     "data": {
      "text/plain": "True"
     },
     "execution_count": 6,
     "metadata": {},
     "output_type": "execute_result"
    }
   ],
   "source": [
    "percapitaGDP.rename(columns={'Year': 'metro'}, inplace=True)\n",
    "percapitaGDP.metro.str.startswith(' ').any()  # checks for leading whitespaces"
   ],
   "metadata": {
    "collapsed": false,
    "pycharm": {
     "name": "#%%\n"
    }
   }
  },
  {
   "cell_type": "code",
   "execution_count": 7,
   "outputs": [
    {
     "data": {
      "text/plain": "True"
     },
     "execution_count": 7,
     "metadata": {},
     "output_type": "execute_result"
    }
   ],
   "source": [
    "percapitaGDP.metro.str.endswith(' ').any()  # checks for trailing whitespaces"
   ],
   "metadata": {
    "collapsed": false,
    "pycharm": {
     "name": "#%%\n"
    }
   }
  },
  {
   "cell_type": "code",
   "execution_count": 8,
   "outputs": [],
   "source": [
    "percapitaGDP.metro = percapitaGDP.metro.str.strip()  # uses builtin strip method to remove said whitespaces"
   ],
   "metadata": {
    "collapsed": false,
    "pycharm": {
     "name": "#%%\n"
    }
   }
  },
  {
   "cell_type": "code",
   "execution_count": 10,
   "outputs": [],
   "source": [
    "for col in percapitaGDP.columns[1:]:\n",
    "    percapitaGDP[col] = pd.to_numeric(percapitaGDP[col], errors='coerce')\n",
    "    percapitaGDP.rename(columns={col:'pcGDP'+col}, inplace=True)\n",
    "# iterates through all the year columns and converts the datatype from object to a float.\n",
    "# the coerce error would turn any errors raised into a NaN value"
   ],
   "metadata": {
    "collapsed": false,
    "pycharm": {
     "name": "#%%\n"
    }
   }
  },
  {
   "cell_type": "code",
   "execution_count": 13,
   "outputs": [
    {
     "data": {
      "text/plain": "                      metro  pcGDP2001  pcGDP2002  pcGDP2003  ...  pcGDP2015  \\\n0        Metropolitan areas        NaN        NaN        NaN  ...        NaN   \n1            AUS: Australia        NaN        NaN        NaN  ...        NaN   \n2     AUS01: Greater Sydney  43,313.00  44,008.00  45,424.00  ...  50,075.00   \n3  AUS02: Greater Melbourne  40,125.00  40,894.00  41,602.00  ...  42,928.00   \n4   AUS03: Greater Brisbane  37,580.00  37,564.00  39,080.00  ...  44,388.00   \n\n   pcGDP2016  pcGDP2017  pcGDP2018  \n0        NaN        NaN        NaN  \n1        NaN        NaN        NaN  \n2  50,519.00  50,578.00  49,860.00  \n3  42,671.00  43,025.00  42,674.00  \n4  45,723.00  46,876.00  46,640.00  \n\n[5 rows x 19 columns]",
      "text/html": "<div>\n<style scoped>\n    .dataframe tbody tr th:only-of-type {\n        vertical-align: middle;\n    }\n\n    .dataframe tbody tr th {\n        vertical-align: top;\n    }\n\n    .dataframe thead th {\n        text-align: right;\n    }\n</style>\n<table border=\"1\" class=\"dataframe\">\n  <thead>\n    <tr style=\"text-align: right;\">\n      <th></th>\n      <th>metro</th>\n      <th>pcGDP2001</th>\n      <th>pcGDP2002</th>\n      <th>pcGDP2003</th>\n      <th>...</th>\n      <th>pcGDP2015</th>\n      <th>pcGDP2016</th>\n      <th>pcGDP2017</th>\n      <th>pcGDP2018</th>\n    </tr>\n  </thead>\n  <tbody>\n    <tr>\n      <th>0</th>\n      <td>Metropolitan areas</td>\n      <td>NaN</td>\n      <td>NaN</td>\n      <td>NaN</td>\n      <td>...</td>\n      <td>NaN</td>\n      <td>NaN</td>\n      <td>NaN</td>\n      <td>NaN</td>\n    </tr>\n    <tr>\n      <th>1</th>\n      <td>AUS: Australia</td>\n      <td>NaN</td>\n      <td>NaN</td>\n      <td>NaN</td>\n      <td>...</td>\n      <td>NaN</td>\n      <td>NaN</td>\n      <td>NaN</td>\n      <td>NaN</td>\n    </tr>\n    <tr>\n      <th>2</th>\n      <td>AUS01: Greater Sydney</td>\n      <td>43,313.00</td>\n      <td>44,008.00</td>\n      <td>45,424.00</td>\n      <td>...</td>\n      <td>50,075.00</td>\n      <td>50,519.00</td>\n      <td>50,578.00</td>\n      <td>49,860.00</td>\n    </tr>\n    <tr>\n      <th>3</th>\n      <td>AUS02: Greater Melbourne</td>\n      <td>40,125.00</td>\n      <td>40,894.00</td>\n      <td>41,602.00</td>\n      <td>...</td>\n      <td>42,928.00</td>\n      <td>42,671.00</td>\n      <td>43,025.00</td>\n      <td>42,674.00</td>\n    </tr>\n    <tr>\n      <th>4</th>\n      <td>AUS03: Greater Brisbane</td>\n      <td>37,580.00</td>\n      <td>37,564.00</td>\n      <td>39,080.00</td>\n      <td>...</td>\n      <td>44,388.00</td>\n      <td>45,723.00</td>\n      <td>46,876.00</td>\n      <td>46,640.00</td>\n    </tr>\n  </tbody>\n</table>\n<p>5 rows × 19 columns</p>\n</div>"
     },
     "execution_count": 13,
     "metadata": {},
     "output_type": "execute_result"
    }
   ],
   "source": [
    "percapitaGDP.head() # note to self: check the AUS row, all converted"
   ],
   "metadata": {
    "collapsed": false,
    "pycharm": {
     "name": "#%%\n"
    }
   }
  },
  {
   "cell_type": "code",
   "execution_count": 16,
   "outputs": [
    {
     "data": {
      "text/plain": "metro         object\npcGDP2001    float64\npcGDP2002    float64\npcGDP2003    float64\npcGDP2004    float64\npcGDP2005    float64\npcGDP2006    float64\npcGDP2007    float64\npcGDP2008    float64\npcGDP2009    float64\npcGDP2010    float64\npcGDP2011    float64\npcGDP2012    float64\npcGDP2013    float64\npcGDP2014    float64\npcGDP2015    float64\npcGDP2016    float64\npcGDP2017    float64\npcGDP2018    float64\ndtype: object"
     },
     "execution_count": 16,
     "metadata": {},
     "output_type": "execute_result"
    }
   ],
   "source": [
    "percapitaGDP.dtypes"
   ],
   "metadata": {
    "collapsed": false,
    "pycharm": {
     "name": "#%%\n"
    }
   }
  },
  {
   "cell_type": "code",
   "execution_count": 17,
   "outputs": [
    {
     "data": {
      "text/plain": "       pcGDP2001  pcGDP2002  pcGDP2003  pcGDP2004  ...  pcGDP2015  pcGDP2016  \\\ncount     424.00     440.00     440.00     440.00  ...     480.00     480.00   \nmean   41,263.66  41,015.07  41,553.36  42,473.02  ...  45,802.22  46,243.67   \nstd    11,877.96  12,536.52  12,456.58  12,621.90  ...  14,948.68  14,938.55   \nmin    10,988.00  11,435.00  11,969.00  12,777.00  ...   2,761.00   2,796.00   \n25%    33,139.25  32,636.00  33,284.75  33,864.50  ...  36,128.50  36,584.75   \n50%    39,543.50  39,683.50  40,390.50  41,200.50  ...  43,237.50  43,931.50   \n75%    47,971.75  48,611.00  49,354.75  50,468.25  ...  54,134.25  54,449.75   \nmax    91,488.00  93,566.00  98,123.00  96,242.00  ... 121,623.00 117,879.00   \n\n       pcGDP2017  pcGDP2018  \ncount     445.00     441.00  \nmean   47,489.09  48,032.67  \nstd    15,463.80  15,719.73  \nmin     2,745.00   2,832.00  \n25%    37,316.00  37,908.00  \n50%    45,385.00  46,057.00  \n75%    56,023.00  56,638.00  \nmax   122,242.00 127,468.00  \n\n[8 rows x 18 columns]",
      "text/html": "<div>\n<style scoped>\n    .dataframe tbody tr th:only-of-type {\n        vertical-align: middle;\n    }\n\n    .dataframe tbody tr th {\n        vertical-align: top;\n    }\n\n    .dataframe thead th {\n        text-align: right;\n    }\n</style>\n<table border=\"1\" class=\"dataframe\">\n  <thead>\n    <tr style=\"text-align: right;\">\n      <th></th>\n      <th>pcGDP2001</th>\n      <th>pcGDP2002</th>\n      <th>pcGDP2003</th>\n      <th>pcGDP2004</th>\n      <th>...</th>\n      <th>pcGDP2015</th>\n      <th>pcGDP2016</th>\n      <th>pcGDP2017</th>\n      <th>pcGDP2018</th>\n    </tr>\n  </thead>\n  <tbody>\n    <tr>\n      <th>count</th>\n      <td>424.00</td>\n      <td>440.00</td>\n      <td>440.00</td>\n      <td>440.00</td>\n      <td>...</td>\n      <td>480.00</td>\n      <td>480.00</td>\n      <td>445.00</td>\n      <td>441.00</td>\n    </tr>\n    <tr>\n      <th>mean</th>\n      <td>41,263.66</td>\n      <td>41,015.07</td>\n      <td>41,553.36</td>\n      <td>42,473.02</td>\n      <td>...</td>\n      <td>45,802.22</td>\n      <td>46,243.67</td>\n      <td>47,489.09</td>\n      <td>48,032.67</td>\n    </tr>\n    <tr>\n      <th>std</th>\n      <td>11,877.96</td>\n      <td>12,536.52</td>\n      <td>12,456.58</td>\n      <td>12,621.90</td>\n      <td>...</td>\n      <td>14,948.68</td>\n      <td>14,938.55</td>\n      <td>15,463.80</td>\n      <td>15,719.73</td>\n    </tr>\n    <tr>\n      <th>min</th>\n      <td>10,988.00</td>\n      <td>11,435.00</td>\n      <td>11,969.00</td>\n      <td>12,777.00</td>\n      <td>...</td>\n      <td>2,761.00</td>\n      <td>2,796.00</td>\n      <td>2,745.00</td>\n      <td>2,832.00</td>\n    </tr>\n    <tr>\n      <th>25%</th>\n      <td>33,139.25</td>\n      <td>32,636.00</td>\n      <td>33,284.75</td>\n      <td>33,864.50</td>\n      <td>...</td>\n      <td>36,128.50</td>\n      <td>36,584.75</td>\n      <td>37,316.00</td>\n      <td>37,908.00</td>\n    </tr>\n    <tr>\n      <th>50%</th>\n      <td>39,543.50</td>\n      <td>39,683.50</td>\n      <td>40,390.50</td>\n      <td>41,200.50</td>\n      <td>...</td>\n      <td>43,237.50</td>\n      <td>43,931.50</td>\n      <td>45,385.00</td>\n      <td>46,057.00</td>\n    </tr>\n    <tr>\n      <th>75%</th>\n      <td>47,971.75</td>\n      <td>48,611.00</td>\n      <td>49,354.75</td>\n      <td>50,468.25</td>\n      <td>...</td>\n      <td>54,134.25</td>\n      <td>54,449.75</td>\n      <td>56,023.00</td>\n      <td>56,638.00</td>\n    </tr>\n    <tr>\n      <th>max</th>\n      <td>91,488.00</td>\n      <td>93,566.00</td>\n      <td>98,123.00</td>\n      <td>96,242.00</td>\n      <td>...</td>\n      <td>121,623.00</td>\n      <td>117,879.00</td>\n      <td>122,242.00</td>\n      <td>127,468.00</td>\n    </tr>\n  </tbody>\n</table>\n<p>8 rows × 18 columns</p>\n</div>"
     },
     "execution_count": 17,
     "metadata": {},
     "output_type": "execute_result"
    }
   ],
   "source": [
    "percapitaGDP.describe()"
   ],
   "metadata": {
    "collapsed": false,
    "pycharm": {
     "name": "#%%\n"
    }
   }
  },
  {
   "cell_type": "code",
   "execution_count": 18,
   "outputs": [],
   "source": [
    "percapitaGDP.dropna(subset=percapitaGDP.columns[1:], how='all', inplace=True)  # this removes all NaN values. note that the \"how='all'\" will only affect those rows in the subset created earlier"
   ],
   "metadata": {
    "collapsed": false,
    "pycharm": {
     "name": "#%%\n"
    }
   }
  },
  {
   "cell_type": "code",
   "execution_count": 19,
   "outputs": [
    {
     "data": {
      "text/plain": "       pcGDP2001  pcGDP2002  pcGDP2003  pcGDP2004  ...  pcGDP2015  pcGDP2016  \\\ncount     424.00     440.00     440.00     440.00  ...     480.00     480.00   \nmean   41,263.66  41,015.07  41,553.36  42,473.02  ...  45,802.22  46,243.67   \nstd    11,877.96  12,536.52  12,456.58  12,621.90  ...  14,948.68  14,938.55   \nmin    10,988.00  11,435.00  11,969.00  12,777.00  ...   2,761.00   2,796.00   \n25%    33,139.25  32,636.00  33,284.75  33,864.50  ...  36,128.50  36,584.75   \n50%    39,543.50  39,683.50  40,390.50  41,200.50  ...  43,237.50  43,931.50   \n75%    47,971.75  48,611.00  49,354.75  50,468.25  ...  54,134.25  54,449.75   \nmax    91,488.00  93,566.00  98,123.00  96,242.00  ... 121,623.00 117,879.00   \n\n       pcGDP2017  pcGDP2018  \ncount     445.00     441.00  \nmean   47,489.09  48,032.67  \nstd    15,463.80  15,719.73  \nmin     2,745.00   2,832.00  \n25%    37,316.00  37,908.00  \n50%    45,385.00  46,057.00  \n75%    56,023.00  56,638.00  \nmax   122,242.00 127,468.00  \n\n[8 rows x 18 columns]",
      "text/html": "<div>\n<style scoped>\n    .dataframe tbody tr th:only-of-type {\n        vertical-align: middle;\n    }\n\n    .dataframe tbody tr th {\n        vertical-align: top;\n    }\n\n    .dataframe thead th {\n        text-align: right;\n    }\n</style>\n<table border=\"1\" class=\"dataframe\">\n  <thead>\n    <tr style=\"text-align: right;\">\n      <th></th>\n      <th>pcGDP2001</th>\n      <th>pcGDP2002</th>\n      <th>pcGDP2003</th>\n      <th>pcGDP2004</th>\n      <th>...</th>\n      <th>pcGDP2015</th>\n      <th>pcGDP2016</th>\n      <th>pcGDP2017</th>\n      <th>pcGDP2018</th>\n    </tr>\n  </thead>\n  <tbody>\n    <tr>\n      <th>count</th>\n      <td>424.00</td>\n      <td>440.00</td>\n      <td>440.00</td>\n      <td>440.00</td>\n      <td>...</td>\n      <td>480.00</td>\n      <td>480.00</td>\n      <td>445.00</td>\n      <td>441.00</td>\n    </tr>\n    <tr>\n      <th>mean</th>\n      <td>41,263.66</td>\n      <td>41,015.07</td>\n      <td>41,553.36</td>\n      <td>42,473.02</td>\n      <td>...</td>\n      <td>45,802.22</td>\n      <td>46,243.67</td>\n      <td>47,489.09</td>\n      <td>48,032.67</td>\n    </tr>\n    <tr>\n      <th>std</th>\n      <td>11,877.96</td>\n      <td>12,536.52</td>\n      <td>12,456.58</td>\n      <td>12,621.90</td>\n      <td>...</td>\n      <td>14,948.68</td>\n      <td>14,938.55</td>\n      <td>15,463.80</td>\n      <td>15,719.73</td>\n    </tr>\n    <tr>\n      <th>min</th>\n      <td>10,988.00</td>\n      <td>11,435.00</td>\n      <td>11,969.00</td>\n      <td>12,777.00</td>\n      <td>...</td>\n      <td>2,761.00</td>\n      <td>2,796.00</td>\n      <td>2,745.00</td>\n      <td>2,832.00</td>\n    </tr>\n    <tr>\n      <th>25%</th>\n      <td>33,139.25</td>\n      <td>32,636.00</td>\n      <td>33,284.75</td>\n      <td>33,864.50</td>\n      <td>...</td>\n      <td>36,128.50</td>\n      <td>36,584.75</td>\n      <td>37,316.00</td>\n      <td>37,908.00</td>\n    </tr>\n    <tr>\n      <th>50%</th>\n      <td>39,543.50</td>\n      <td>39,683.50</td>\n      <td>40,390.50</td>\n      <td>41,200.50</td>\n      <td>...</td>\n      <td>43,237.50</td>\n      <td>43,931.50</td>\n      <td>45,385.00</td>\n      <td>46,057.00</td>\n    </tr>\n    <tr>\n      <th>75%</th>\n      <td>47,971.75</td>\n      <td>48,611.00</td>\n      <td>49,354.75</td>\n      <td>50,468.25</td>\n      <td>...</td>\n      <td>54,134.25</td>\n      <td>54,449.75</td>\n      <td>56,023.00</td>\n      <td>56,638.00</td>\n    </tr>\n    <tr>\n      <th>max</th>\n      <td>91,488.00</td>\n      <td>93,566.00</td>\n      <td>98,123.00</td>\n      <td>96,242.00</td>\n      <td>...</td>\n      <td>121,623.00</td>\n      <td>117,879.00</td>\n      <td>122,242.00</td>\n      <td>127,468.00</td>\n    </tr>\n  </tbody>\n</table>\n<p>8 rows × 18 columns</p>\n</div>"
     },
     "execution_count": 19,
     "metadata": {},
     "output_type": "execute_result"
    }
   ],
   "source": [
    "percapitaGDP.describe()"
   ],
   "metadata": {
    "collapsed": false,
    "pycharm": {
     "name": "#%%\n"
    }
   }
  },
  {
   "cell_type": "code",
   "execution_count": 23,
   "outputs": [
    {
     "data": {
      "text/plain": "(480, 19)"
     },
     "execution_count": 23,
     "metadata": {},
     "output_type": "execute_result"
    }
   ],
   "source": [
    "percapitaGDP.shape"
   ],
   "metadata": {
    "collapsed": false,
    "pycharm": {
     "name": "#%%\n"
    }
   }
  },
  {
   "cell_type": "code",
   "execution_count": 20,
   "outputs": [
    {
     "data": {
      "text/plain": "480"
     },
     "execution_count": 20,
     "metadata": {},
     "output_type": "execute_result"
    }
   ],
   "source": [
    "percapitaGDP.metro.count()"
   ],
   "metadata": {
    "collapsed": false,
    "pycharm": {
     "name": "#%%\n"
    }
   }
  },
  {
   "cell_type": "code",
   "execution_count": 24,
   "outputs": [
    {
     "data": {
      "text/plain": "480"
     },
     "execution_count": 24,
     "metadata": {},
     "output_type": "execute_result"
    }
   ],
   "source": [
    "percapitaGDP.metro.nunique()  # we've confirmed there are 480 unique values"
   ],
   "metadata": {
    "collapsed": false,
    "pycharm": {
     "name": "#%%\n"
    }
   }
  },
  {
   "cell_type": "code",
   "execution_count": 25,
   "outputs": [],
   "source": [
    "percapitaGDP.set_index('metro', inplace=True)  # setting the new index"
   ],
   "metadata": {
    "collapsed": false,
    "pycharm": {
     "name": "#%%\n"
    }
   }
  },
  {
   "cell_type": "code",
   "execution_count": 26,
   "outputs": [
    {
     "data": {
      "text/plain": "                          pcGDP2001  pcGDP2002  pcGDP2003  pcGDP2004  ...  \\\nmetro                                                                 ...   \nAUS01: Greater Sydney     43,313.00  44,008.00  45,424.00  45,837.00  ...   \nAUS02: Greater Melbourne  40,125.00  40,894.00  41,602.00  42,188.00  ...   \nAUS03: Greater Brisbane   37,580.00  37,564.00  39,080.00  40,762.00  ...   \nAUS04: Greater Perth      45,713.00  47,371.00  48,719.00  51,020.00  ...   \nAUS05: Greater Adelaide   36,505.00  37,194.00  37,634.00  37,399.00  ...   \n\n                          pcGDP2015  pcGDP2016  pcGDP2017  pcGDP2018  \nmetro                                                                 \nAUS01: Greater Sydney     50,075.00  50,519.00  50,578.00  49,860.00  \nAUS02: Greater Melbourne  42,928.00  42,671.00  43,025.00  42,674.00  \nAUS03: Greater Brisbane   44,388.00  45,723.00  46,876.00  46,640.00  \nAUS04: Greater Perth      66,544.00  66,032.00  66,424.00  70,390.00  \nAUS05: Greater Adelaide   40,295.00  39,737.00  40,115.00  39,924.00  \n\n[5 rows x 18 columns]",
      "text/html": "<div>\n<style scoped>\n    .dataframe tbody tr th:only-of-type {\n        vertical-align: middle;\n    }\n\n    .dataframe tbody tr th {\n        vertical-align: top;\n    }\n\n    .dataframe thead th {\n        text-align: right;\n    }\n</style>\n<table border=\"1\" class=\"dataframe\">\n  <thead>\n    <tr style=\"text-align: right;\">\n      <th></th>\n      <th>pcGDP2001</th>\n      <th>pcGDP2002</th>\n      <th>pcGDP2003</th>\n      <th>pcGDP2004</th>\n      <th>...</th>\n      <th>pcGDP2015</th>\n      <th>pcGDP2016</th>\n      <th>pcGDP2017</th>\n      <th>pcGDP2018</th>\n    </tr>\n    <tr>\n      <th>metro</th>\n      <th></th>\n      <th></th>\n      <th></th>\n      <th></th>\n      <th></th>\n      <th></th>\n      <th></th>\n      <th></th>\n      <th></th>\n    </tr>\n  </thead>\n  <tbody>\n    <tr>\n      <th>AUS01: Greater Sydney</th>\n      <td>43,313.00</td>\n      <td>44,008.00</td>\n      <td>45,424.00</td>\n      <td>45,837.00</td>\n      <td>...</td>\n      <td>50,075.00</td>\n      <td>50,519.00</td>\n      <td>50,578.00</td>\n      <td>49,860.00</td>\n    </tr>\n    <tr>\n      <th>AUS02: Greater Melbourne</th>\n      <td>40,125.00</td>\n      <td>40,894.00</td>\n      <td>41,602.00</td>\n      <td>42,188.00</td>\n      <td>...</td>\n      <td>42,928.00</td>\n      <td>42,671.00</td>\n      <td>43,025.00</td>\n      <td>42,674.00</td>\n    </tr>\n    <tr>\n      <th>AUS03: Greater Brisbane</th>\n      <td>37,580.00</td>\n      <td>37,564.00</td>\n      <td>39,080.00</td>\n      <td>40,762.00</td>\n      <td>...</td>\n      <td>44,388.00</td>\n      <td>45,723.00</td>\n      <td>46,876.00</td>\n      <td>46,640.00</td>\n    </tr>\n    <tr>\n      <th>AUS04: Greater Perth</th>\n      <td>45,713.00</td>\n      <td>47,371.00</td>\n      <td>48,719.00</td>\n      <td>51,020.00</td>\n      <td>...</td>\n      <td>66,544.00</td>\n      <td>66,032.00</td>\n      <td>66,424.00</td>\n      <td>70,390.00</td>\n    </tr>\n    <tr>\n      <th>AUS05: Greater Adelaide</th>\n      <td>36,505.00</td>\n      <td>37,194.00</td>\n      <td>37,634.00</td>\n      <td>37,399.00</td>\n      <td>...</td>\n      <td>40,295.00</td>\n      <td>39,737.00</td>\n      <td>40,115.00</td>\n      <td>39,924.00</td>\n    </tr>\n  </tbody>\n</table>\n<p>5 rows × 18 columns</p>\n</div>"
     },
     "execution_count": 26,
     "metadata": {},
     "output_type": "execute_result"
    }
   ],
   "source": [
    "percapitaGDP.head()"
   ],
   "metadata": {
    "collapsed": false,
    "pycharm": {
     "name": "#%%\n"
    }
   }
  },
  {
   "cell_type": "code",
   "execution_count": null,
   "outputs": [],
   "source": [],
   "metadata": {
    "collapsed": false,
    "pycharm": {
     "name": "#%%\n"
    }
   }
  }
 ],
 "metadata": {
  "kernelspec": {
   "display_name": "Python 3",
   "language": "python",
   "name": "python3"
  },
  "language_info": {
   "codemirror_mode": {
    "name": "ipython",
    "version": 2
   },
   "file_extension": ".py",
   "mimetype": "text/x-python",
   "name": "python",
   "nbconvert_exporter": "python",
   "pygments_lexer": "ipython2",
   "version": "2.7.6"
  }
 },
 "nbformat": 4,
 "nbformat_minor": 0
}